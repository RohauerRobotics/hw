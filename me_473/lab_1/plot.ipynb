{
 "cells": [
  {
   "cell_type": "code",
   "execution_count": 1,
   "id": "0f825407",
   "metadata": {},
   "outputs": [],
   "source": [
    "import numpy as np\n",
    "import matplotlib.pyplot as plt\n",
    "import control as ct "
   ]
  },
  {
   "cell_type": "markdown",
   "id": "dc3c29e8-65b5-4d89-8a50-8de19c69ae7a",
   "metadata": {},
   "source": [
    "## Get data from pyboard\n",
    "NOTE: you will need to modify `<port>` in the following line to work with your operating system (see lab1.py for instructions)"
   ]
  },
  {
   "cell_type": "code",
   "execution_count": 22,
   "id": "2e391f02-59ae-40b1-991c-46e757b7ddb1",
   "metadata": {},
   "outputs": [],
   "source": [
    "data_txt = !python pyboard.py --device COM5 lab1.py \n",
    "data = np.loadtxt(data_txt) # convert text stream to numpy array"
   ]
  },
  {
   "cell_type": "markdown",
   "id": "e89c60a4-d021-46ba-95a9-cc2f63f89bf4",
   "metadata": {},
   "source": [
    "### Run the following cell if you want to save the data to a text file"
   ]
  },
  {
   "cell_type": "code",
   "execution_count": 23,
   "id": "222a4f7c-ef3f-4355-a86a-2a4134220b10",
   "metadata": {},
   "outputs": [],
   "source": [
    "filename = 'data.csv' # change filename here to save multiple data files\n",
    "np.savetxt(filename, data) # save numpy array to text file"
   ]
  },
  {
   "cell_type": "markdown",
   "id": "50190c74-e63f-4ab1-ad76-ce43d12d9b86",
   "metadata": {},
   "source": [
    "### Run the following cell to load data from a text file."
   ]
  },
  {
   "cell_type": "code",
   "execution_count": 24,
   "id": "6c214545-0372-49b4-93b4-eff15f057a91",
   "metadata": {},
   "outputs": [],
   "source": [
    "data = np.loadtxt(filename) # load text file into numpy array"
   ]
  },
  {
   "cell_type": "markdown",
   "id": "f26039a9-a195-4b92-9d93-73e9a93c9bd0",
   "metadata": {},
   "source": [
    "### Plot"
   ]
  },
  {
   "cell_type": "code",
   "execution_count": 25,
   "id": "e0141778-ec99-4f53-b5a9-4c00fad9ca11",
   "metadata": {},
   "outputs": [
    {
     "name": "stdout",
     "output_type": "stream",
     "text": [
      "Average Voltage:1.4980000000000002 \n"
     ]
    },
    {
     "data": {
      "image/png": "[encoded data removed]",
      "text/plain": [
       "<Figure size 432x288 with 1 Axes>"
      ]
     },
     "metadata": {
      "needs_background": "light"
     },
     "output_type": "display_data"
    }
   ],
   "source": [
    "# extract data colums\n",
    "t = data[:,0]\n",
    "A0_V = data[:,1]\n",
    "A2_V = data[:,2]\n",
    "A3_V = data[:,3]\n",
    "plt.plot(t, A0_V, t, A2_V)\n",
    "plt.xlabel('Time (s)') \n",
    "plt.ylabel('Voltage (V)') \n",
    "plt.legend(('A0 (output)', 'A2 (input)'))\n",
    "plt.grid()\n",
    "plt.title(\"Readings from Voltage Divider\")\n",
    "# other useful commands: \n",
    "plt.ylim(0,1.75) # adjust vertical range of plot\n",
    "plt.savefig('myfigure.jpg'); # save figure as a pdf. \n",
    "# print(max(data)) # print maximum value of data\n",
    "# function? to get help on a specific function named \"function\"\n",
    "print(f\"Average Voltage:{np.mean(A2_V)} \")"
   ]
  },
  {
   "cell_type": "code",
   "execution_count": null,
   "id": "90ffc592-c2b0-44d6-9d4f-1e5d8e10d768",
   "metadata": {},
   "outputs": [],
   "source": []
  }
 ],
 "metadata": {
  "kernelspec": {
   "display_name": "Python 3",
   "language": "python",
   "name": "python3"
  },
  "language_info": {
   "codemirror_mode": {
    "name": "ipython",
    "version": 3
   },
   "file_extension": ".py",
   "mimetype": "text/x-python",
   "name": "python",
   "nbconvert_exporter": "python",
   "pygments_lexer": "ipython3",
   "version": "3.8.8"
  }
 },
 "nbformat": 4,
 "nbformat_minor": 5
}
